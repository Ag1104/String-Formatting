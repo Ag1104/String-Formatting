{
 "cells": [
  {
   "cell_type": "code",
   "execution_count": 53,
   "id": "19d8656f",
   "metadata": {},
   "outputs": [
    {
     "name": "stdout",
     "output_type": "stream",
     "text": [
      "Enter the update version figure: 1.2.1\n",
      "Version: 001.002.001\n"
     ]
    }
   ],
   "source": [
    "number = input(\"Enter the update version figure: \")\n",
    "n = number.split(\".\")\n",
    "first = n[0].zfill(3)\n",
    "second = n[1].zfill(3)\n",
    "third = n[2].zfill(3)\n",
    "print(f\"Version: {first}.{second}.{third}\")"
   ]
  }
 ],
 "metadata": {
  "kernelspec": {
   "display_name": "Python 3 (ipykernel)",
   "language": "python",
   "name": "python3"
  },
  "language_info": {
   "codemirror_mode": {
    "name": "ipython",
    "version": 3
   },
   "file_extension": ".py",
   "mimetype": "text/x-python",
   "name": "python",
   "nbconvert_exporter": "python",
   "pygments_lexer": "ipython3",
   "version": "3.11.5"
  }
 },
 "nbformat": 4,
 "nbformat_minor": 5
}
